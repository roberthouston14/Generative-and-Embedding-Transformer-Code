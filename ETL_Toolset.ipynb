{
  "nbformat": 4,
  "nbformat_minor": 0,
  "metadata": {
    "colab": {
      "provenance": [],
      "authorship_tag": "ABX9TyM+rL3O82XnM+OI2FAf0qnN",
      "include_colab_link": true
    },
    "kernelspec": {
      "name": "python3",
      "display_name": "Python 3"
    },
    "language_info": {
      "name": "python"
    }
  },
  "cells": [
    {
      "cell_type": "markdown",
      "metadata": {
        "id": "view-in-github",
        "colab_type": "text"
      },
      "source": [
        "<a href=\"https://colab.research.google.com/github/roberthouston14/Final_Praxis_Code/blob/main/ETL_Toolset.ipynb\" target=\"_parent\"><img src=\"https://colab.research.google.com/assets/colab-badge.svg\" alt=\"Open In Colab\"/></a>"
      ]
    },
    {
      "cell_type": "code",
      "execution_count": 1,
      "metadata": {
        "colab": {
          "base_uri": "https://localhost:8080/"
        },
        "id": "9VBobaW-jtyR",
        "outputId": "44fe2e71-2497-40f0-ba27-7a2f3fa1974f"
      },
      "outputs": [
        {
          "output_type": "stream",
          "name": "stdout",
          "text": [
            "Mounted at /content/drive\n"
          ]
        }
      ],
      "source": [
        "from google.colab import drive\n",
        "drive.mount('/content/drive')"
      ]
    },
    {
      "cell_type": "code",
      "execution_count": 2,
      "metadata": {
        "id": "23TOba33L4qf",
        "colab": {
          "base_uri": "https://localhost:8080/"
        },
        "outputId": "485be754-debb-49cb-a637-3b7dd1256783"
      },
      "outputs": [
        {
          "output_type": "stream",
          "name": "stdout",
          "text": [
            "/bin/bash: line 1: nvidia-smi: command not found\n"
          ]
        }
      ],
      "source": [
        "gpu_info = !nvidia-smi\n",
        "gpu_info = '\\n'.join(gpu_info)\n",
        "if gpu_info.find('failed') >= 0:\n",
        "  print('Not connected to a GPU')\n",
        "else:\n",
        "  print(gpu_info)"
      ]
    },
    {
      "cell_type": "code",
      "execution_count": null,
      "metadata": {
        "id": "V1G82GuO-tez",
        "colab": {
          "base_uri": "https://localhost:8080/"
        },
        "outputId": "96166c16-ab83-452e-dd21-26d61bc2feae"
      },
      "outputs": [
        {
          "output_type": "stream",
          "name": "stdout",
          "text": [
            "Your runtime has 13.6 gigabytes of available RAM\n",
            "\n",
            "Not using a high-RAM runtime\n"
          ]
        }
      ],
      "source": [
        "from psutil import virtual_memory\n",
        "ram_gb = virtual_memory().total / 1e9\n",
        "print('Your runtime has {:.1f} gigabytes of available RAM\\n'.format(ram_gb))\n",
        "\n",
        "if ram_gb < 20:\n",
        "  print('Not using a high-RAM runtime')\n",
        "else:\n",
        "  print('You are using a high-RAM runtime!')"
      ]
    },
    {
      "cell_type": "markdown",
      "source": [
        "The following code checks for duplicate messages between two datasets"
      ],
      "metadata": {
        "id": "VjjjKxQxhHu1"
      }
    },
    {
      "cell_type": "code",
      "source": [
        "# GOLD: This code compares two datasets for duplicates, prints a pie chart, and shows a df of the duplicates.\n",
        "import pandas as pd\n",
        "import matplotlib.pyplot as plt\n",
        "import os\n",
        "\n",
        "# Prompt the user to input the file paths for the two datasets\n",
        "original_file = input(\"Enter the file path for the original dataset: \")\n",
        "synthetic_file = input(\"Enter the file path for the synthetic dataset: \")\n",
        "\n",
        "# Prompt the user to input the column name containing the text messages\n",
        "column_name = input(\"Enter the column name containing the text messages: \")\n",
        "\n",
        "# Load the two datasets into Pandas dataframes\n",
        "df_original = pd.read_csv(original_file)\n",
        "df_synthetic = pd.read_csv(synthetic_file)\n",
        "\n",
        "# Check if the specified column exists in both dataframes\n",
        "if column_name not in df_original.columns or column_name not in df_synthetic.columns:\n",
        "    print(f\"The specified column '{column_name}' does not exist in one or both datasets.\")\n",
        "else:\n",
        "    # Concatenate the two dataframes into a single dataframe\n",
        "    df_combined = pd.concat([df_original[[column_name]], df_synthetic[[column_name]]], ignore_index=True)\n",
        "\n",
        "    # Identify duplicates using the `duplicated()` function with `keep=False` to mark all duplicates\n",
        "    df_combined['duplicate'] = df_combined[column_name].duplicated(keep=False)\n",
        "\n",
        "    # Print some statistics on the comparison results\n",
        "    num_duplicates = df_combined['duplicate'].sum()\n",
        "    num_unique = len(df_combined) - num_duplicates\n",
        "    print(f\"Number of duplicates: {num_duplicates}\")\n",
        "    print(f\"Number of unique messages: {num_unique}\")\n",
        "\n",
        "    # Create a dataframe containing the duplicate records\n",
        "    df_duplicates = df_combined[df_combined['duplicate']]\n",
        "\n",
        "    # Display the first 10 rows of the duplicates dataframe\n",
        "    print(\"\\nFirst 10 duplicate records:\")\n",
        "    print(df_duplicates.head(10))\n",
        "\n",
        "    # Create a pie chart to visualize the comparison results\n",
        "    labels = ['Unique', 'Duplicate']\n",
        "    sizes = [num_unique, num_duplicates]\n",
        "    colors = ['#66b3ff', '#ff9999']\n",
        "    plt.pie(sizes, labels=labels, colors=colors, autopct='%1.1f%%', startangle=90)\n",
        "    plt.axis('equal')  # Equal aspect ratio ensures that the pie chart is circular\n",
        "\n",
        "    # Extract the filenames from the file paths and include them in the chart title\n",
        "    original_filename = os.path.basename(original_file)\n",
        "    synthetic_filename = os.path.basename(synthetic_file)\n",
        "    plt.title(f\"Comparison Results\\nOriginal: {original_filename}\\nSynthetic: {synthetic_filename}\")\n",
        "\n",
        "    plt.show()\n"
      ],
      "metadata": {
        "id": "SQ34skRidBvK"
      },
      "execution_count": null,
      "outputs": []
    },
    {
      "cell_type": "code",
      "source": [
        "df_duplicates.head(20)"
      ],
      "metadata": {
        "colab": {
          "base_uri": "https://localhost:8080/",
          "height": 676
        },
        "id": "tzxLBj-syNfH",
        "outputId": "eb5cf005-abdf-49d7-8e16-6528be5e24bf"
      },
      "execution_count": null,
      "outputs": [
        {
          "output_type": "execute_result",
          "data": {
            "text/plain": [
              "                                                   TEXT  duplicate\n",
              "928   Get tons of sexy babes or hunks straight to yo...       True\n",
              "940   . Please CALL 08712402578 immediately as there...       True\n",
              "997   ? Reply or call 08000930705 NOW? Reply or call...       True\n",
              "1011  wave/wave.asp?o=443303800231. Do not reply by ...       True\n",
              "1034          your information. Thank you. PAY2TM TEAM.       True\n",
              "1049  94-stopsms-08718727870150ppm-08718727870150ppm...       True\n",
              "1085  . Please CALL 08712402578 immediately as there...       True\n",
              "1092  £1.50 008704050406 SP £1.50 008704050406 SP £1...       True\n",
              "1154  £1.50 008704050406 SP £1.50 008704050406 SP £1...       True\n",
              "1166  T Cs SavaMob POBOX 139, LA3 2WU. Only £1.50/we...       True\n",
              "1169  ? Reply or call 08000930705 for delivery tomor...       True\n",
              "1192  find out why, log onto http://www.urawinner.co...       True\n",
              "1246  tomorrow? Reply or call 08000930705 for free d...       True\n",
              "1273          your information. Thank you. PAY2TM TEAM.       True\n",
              "1283                                                  .       True\n",
              "1296  your account information. Thank you. PAY2TM TEAM.       True\n",
              "1354  . Please CALL 08712402972 immediately as there...       True\n",
              "1357  find out why, log onto http://www.urawinner.co...       True\n",
              "1360  OCKSMSGIGHJJGCBLOCKSMSGIGHJJGCBLOCKSMSGIGHJJGC...       True\n",
              "1379  . These numbers called but left no message. 07...       True"
            ],
            "text/html": [
              "\n",
              "  <div id=\"df-7ca2de0b-00ef-4d0b-ab2e-69d3d7fdc96e\">\n",
              "    <div class=\"colab-df-container\">\n",
              "      <div>\n",
              "<style scoped>\n",
              "    .dataframe tbody tr th:only-of-type {\n",
              "        vertical-align: middle;\n",
              "    }\n",
              "\n",
              "    .dataframe tbody tr th {\n",
              "        vertical-align: top;\n",
              "    }\n",
              "\n",
              "    .dataframe thead th {\n",
              "        text-align: right;\n",
              "    }\n",
              "</style>\n",
              "<table border=\"1\" class=\"dataframe\">\n",
              "  <thead>\n",
              "    <tr style=\"text-align: right;\">\n",
              "      <th></th>\n",
              "      <th>TEXT</th>\n",
              "      <th>duplicate</th>\n",
              "    </tr>\n",
              "  </thead>\n",
              "  <tbody>\n",
              "    <tr>\n",
              "      <th>928</th>\n",
              "      <td>Get tons of sexy babes or hunks straight to yo...</td>\n",
              "      <td>True</td>\n",
              "    </tr>\n",
              "    <tr>\n",
              "      <th>940</th>\n",
              "      <td>. Please CALL 08712402578 immediately as there...</td>\n",
              "      <td>True</td>\n",
              "    </tr>\n",
              "    <tr>\n",
              "      <th>997</th>\n",
              "      <td>? Reply or call 08000930705 NOW? Reply or call...</td>\n",
              "      <td>True</td>\n",
              "    </tr>\n",
              "    <tr>\n",
              "      <th>1011</th>\n",
              "      <td>wave/wave.asp?o=443303800231. Do not reply by ...</td>\n",
              "      <td>True</td>\n",
              "    </tr>\n",
              "    <tr>\n",
              "      <th>1034</th>\n",
              "      <td>your information. Thank you. PAY2TM TEAM.</td>\n",
              "      <td>True</td>\n",
              "    </tr>\n",
              "    <tr>\n",
              "      <th>1049</th>\n",
              "      <td>94-stopsms-08718727870150ppm-08718727870150ppm...</td>\n",
              "      <td>True</td>\n",
              "    </tr>\n",
              "    <tr>\n",
              "      <th>1085</th>\n",
              "      <td>. Please CALL 08712402578 immediately as there...</td>\n",
              "      <td>True</td>\n",
              "    </tr>\n",
              "    <tr>\n",
              "      <th>1092</th>\n",
              "      <td>£1.50 008704050406 SP £1.50 008704050406 SP £1...</td>\n",
              "      <td>True</td>\n",
              "    </tr>\n",
              "    <tr>\n",
              "      <th>1154</th>\n",
              "      <td>£1.50 008704050406 SP £1.50 008704050406 SP £1...</td>\n",
              "      <td>True</td>\n",
              "    </tr>\n",
              "    <tr>\n",
              "      <th>1166</th>\n",
              "      <td>T Cs SavaMob POBOX 139, LA3 2WU. Only £1.50/we...</td>\n",
              "      <td>True</td>\n",
              "    </tr>\n",
              "    <tr>\n",
              "      <th>1169</th>\n",
              "      <td>? Reply or call 08000930705 for delivery tomor...</td>\n",
              "      <td>True</td>\n",
              "    </tr>\n",
              "    <tr>\n",
              "      <th>1192</th>\n",
              "      <td>find out why, log onto http://www.urawinner.co...</td>\n",
              "      <td>True</td>\n",
              "    </tr>\n",
              "    <tr>\n",
              "      <th>1246</th>\n",
              "      <td>tomorrow? Reply or call 08000930705 for free d...</td>\n",
              "      <td>True</td>\n",
              "    </tr>\n",
              "    <tr>\n",
              "      <th>1273</th>\n",
              "      <td>your information. Thank you. PAY2TM TEAM.</td>\n",
              "      <td>True</td>\n",
              "    </tr>\n",
              "    <tr>\n",
              "      <th>1283</th>\n",
              "      <td>.</td>\n",
              "      <td>True</td>\n",
              "    </tr>\n",
              "    <tr>\n",
              "      <th>1296</th>\n",
              "      <td>your account information. Thank you. PAY2TM TEAM.</td>\n",
              "      <td>True</td>\n",
              "    </tr>\n",
              "    <tr>\n",
              "      <th>1354</th>\n",
              "      <td>. Please CALL 08712402972 immediately as there...</td>\n",
              "      <td>True</td>\n",
              "    </tr>\n",
              "    <tr>\n",
              "      <th>1357</th>\n",
              "      <td>find out why, log onto http://www.urawinner.co...</td>\n",
              "      <td>True</td>\n",
              "    </tr>\n",
              "    <tr>\n",
              "      <th>1360</th>\n",
              "      <td>OCKSMSGIGHJJGCBLOCKSMSGIGHJJGCBLOCKSMSGIGHJJGC...</td>\n",
              "      <td>True</td>\n",
              "    </tr>\n",
              "    <tr>\n",
              "      <th>1379</th>\n",
              "      <td>. These numbers called but left no message. 07...</td>\n",
              "      <td>True</td>\n",
              "    </tr>\n",
              "  </tbody>\n",
              "</table>\n",
              "</div>\n",
              "      <button class=\"colab-df-convert\" onclick=\"convertToInteractive('df-7ca2de0b-00ef-4d0b-ab2e-69d3d7fdc96e')\"\n",
              "              title=\"Convert this dataframe to an interactive table.\"\n",
              "              style=\"display:none;\">\n",
              "        \n",
              "  <svg xmlns=\"http://www.w3.org/2000/svg\" height=\"24px\"viewBox=\"0 0 24 24\"\n",
              "       width=\"24px\">\n",
              "    <path d=\"M0 0h24v24H0V0z\" fill=\"none\"/>\n",
              "    <path d=\"M18.56 5.44l.94 2.06.94-2.06 2.06-.94-2.06-.94-.94-2.06-.94 2.06-2.06.94zm-11 1L8.5 8.5l.94-2.06 2.06-.94-2.06-.94L8.5 2.5l-.94 2.06-2.06.94zm10 10l.94 2.06.94-2.06 2.06-.94-2.06-.94-.94-2.06-.94 2.06-2.06.94z\"/><path d=\"M17.41 7.96l-1.37-1.37c-.4-.4-.92-.59-1.43-.59-.52 0-1.04.2-1.43.59L10.3 9.45l-7.72 7.72c-.78.78-.78 2.05 0 2.83L4 21.41c.39.39.9.59 1.41.59.51 0 1.02-.2 1.41-.59l7.78-7.78 2.81-2.81c.8-.78.8-2.07 0-2.86zM5.41 20L4 18.59l7.72-7.72 1.47 1.35L5.41 20z\"/>\n",
              "  </svg>\n",
              "      </button>\n",
              "      \n",
              "  <style>\n",
              "    .colab-df-container {\n",
              "      display:flex;\n",
              "      flex-wrap:wrap;\n",
              "      gap: 12px;\n",
              "    }\n",
              "\n",
              "    .colab-df-convert {\n",
              "      background-color: #E8F0FE;\n",
              "      border: none;\n",
              "      border-radius: 50%;\n",
              "      cursor: pointer;\n",
              "      display: none;\n",
              "      fill: #1967D2;\n",
              "      height: 32px;\n",
              "      padding: 0 0 0 0;\n",
              "      width: 32px;\n",
              "    }\n",
              "\n",
              "    .colab-df-convert:hover {\n",
              "      background-color: #E2EBFA;\n",
              "      box-shadow: 0px 1px 2px rgba(60, 64, 67, 0.3), 0px 1px 3px 1px rgba(60, 64, 67, 0.15);\n",
              "      fill: #174EA6;\n",
              "    }\n",
              "\n",
              "    [theme=dark] .colab-df-convert {\n",
              "      background-color: #3B4455;\n",
              "      fill: #D2E3FC;\n",
              "    }\n",
              "\n",
              "    [theme=dark] .colab-df-convert:hover {\n",
              "      background-color: #434B5C;\n",
              "      box-shadow: 0px 1px 3px 1px rgba(0, 0, 0, 0.15);\n",
              "      filter: drop-shadow(0px 1px 2px rgba(0, 0, 0, 0.3));\n",
              "      fill: #FFFFFF;\n",
              "    }\n",
              "  </style>\n",
              "\n",
              "      <script>\n",
              "        const buttonEl =\n",
              "          document.querySelector('#df-7ca2de0b-00ef-4d0b-ab2e-69d3d7fdc96e button.colab-df-convert');\n",
              "        buttonEl.style.display =\n",
              "          google.colab.kernel.accessAllowed ? 'block' : 'none';\n",
              "\n",
              "        async function convertToInteractive(key) {\n",
              "          const element = document.querySelector('#df-7ca2de0b-00ef-4d0b-ab2e-69d3d7fdc96e');\n",
              "          const dataTable =\n",
              "            await google.colab.kernel.invokeFunction('convertToInteractive',\n",
              "                                                     [key], {});\n",
              "          if (!dataTable) return;\n",
              "\n",
              "          const docLinkHtml = 'Like what you see? Visit the ' +\n",
              "            '<a target=\"_blank\" href=https://colab.research.google.com/notebooks/data_table.ipynb>data table notebook</a>'\n",
              "            + ' to learn more about interactive tables.';\n",
              "          element.innerHTML = '';\n",
              "          dataTable['output_type'] = 'display_data';\n",
              "          await google.colab.output.renderOutput(dataTable, element);\n",
              "          const docLink = document.createElement('div');\n",
              "          docLink.innerHTML = docLinkHtml;\n",
              "          element.appendChild(docLink);\n",
              "        }\n",
              "      </script>\n",
              "    </div>\n",
              "  </div>\n",
              "  "
            ]
          },
          "metadata": {},
          "execution_count": 29
        }
      ]
    },
    {
      "cell_type": "markdown",
      "source": [
        "The Following Code Checks for Duplicates in a Single file"
      ],
      "metadata": {
        "id": "_-FAzXpaeu3m"
      }
    },
    {
      "cell_type": "code",
      "source": [
        "# GOLD: The Following Code Checks for Duplicates in a Single file and shows a df of the duplicates\n",
        "import pandas as pd\n",
        "import matplotlib.pyplot as plt\n",
        "import os\n",
        "\n",
        "# Prompt the user to input the file path for the dataset\n",
        "file_path = input(\"Enter the file path for the dataset: \")\n",
        "\n",
        "# Prompt the user to input the column name containing the text messages\n",
        "column_name = input(\"Enter the column name containing the text messages: \")\n",
        "\n",
        "# Load the dataset into a Pandas dataframe\n",
        "df = pd.read_csv(file_path)\n",
        "\n",
        "# Check if the specified column exists in the dataframe\n",
        "if column_name not in df.columns:\n",
        "    print(f\"The specified column '{column_name}' does not exist in the dataset.\")\n",
        "else:\n",
        "    # Identify duplicates using the `duplicated()` function with `keep=False` to mark all duplicates\n",
        "    df['duplicate'] = df[column_name].duplicated(keep=False)\n",
        "\n",
        "    # Print some statistics on the duplicate results\n",
        "    num_duplicates = df['duplicate'].sum()\n",
        "    num_unique = len(df) - num_duplicates\n",
        "    print(f\"Number of duplicates: {num_duplicates}\")\n",
        "    print(f\"Number of unique messages: {num_unique}\")\n",
        "\n",
        "    # Create a pie chart to visualize the duplicate results\n",
        "    labels = ['Unique', 'Duplicate']\n",
        "    sizes = [num_unique, num_duplicates]\n",
        "    colors = ['#66b3ff', '#ff9999']\n",
        "    plt.pie(sizes, labels=labels, colors=colors, autopct='%1.1f%%', startangle=90)\n",
        "    plt.axis('equal')  # Equal aspect ratio ensures that the pie chart is circular\n",
        "\n",
        "    # Extract the filename from the file path and include it in the chart title\n",
        "    filename = os.path.basename(file_path)\n",
        "    plt.title(f\"Duplicate Results\\nFile: {filename}\")\n",
        "\n",
        "    plt.show()\n",
        "\n",
        "    # Display the first 10 rows of the duplicates dataframe\n",
        "    print(\"\\nFirst 10 duplicate records:\")\n",
        "    df_duplicates = df[df['duplicate']]\n",
        "    print(df_duplicates.head(10))\n"
      ],
      "metadata": {
        "colab": {
          "base_uri": "https://localhost:8080/",
          "height": 632
        },
        "id": "QAyhSIpweofU",
        "outputId": "39da29fe-9303-4675-cb9b-a12da72d7f40"
      },
      "execution_count": 4,
      "outputs": [
        {
          "output_type": "stream",
          "name": "stdout",
          "text": [
            "Enter the file path for the dataset: /content/drive/MyDrive/Production Datasets/1_Praxis_Dataset/DeDuped_Dataset/Split Dataset/Training Data/Generative Transformer Balanced Datasets/GPT2 Medium/Additional Runs/Dataset_5971_deduped_training - Copy (2)_balanced_data_10149_gpt2-medium_temp1.0_deduped.csv\n",
            "Enter the column name containing the text messages: TEXT\n",
            "Number of duplicates: 0\n",
            "Number of unique messages: 10131\n"
          ]
        },
        {
          "output_type": "display_data",
          "data": {
            "text/plain": [
              "<Figure size 640x480 with 1 Axes>"
            ],
            "image/png": "[encoded data removed]"
          },
          "metadata": {}
        },
        {
          "output_type": "stream",
          "name": "stdout",
          "text": [
            "\n",
            "First 10 duplicate records:\n",
            "Empty DataFrame\n",
            "Columns: [LABEL, TEXT, URL, EMAIL, PHONE, duplicate]\n",
            "Index: []\n"
          ]
        }
      ]
    },
    {
      "cell_type": "code",
      "source": [
        "# GOLD: The Following Code Checks for Duplicates in a Single file and shows a df of the duplicates AND the number of NANs Drops NANS and saves cleaned dataset\n",
        "import pandas as pd\n",
        "import matplotlib.pyplot as plt\n",
        "import os\n",
        "\n",
        "# Prompt the user to input the file path for the dataset\n",
        "file_path = input(\"Enter the file path for the dataset: \")\n",
        "\n",
        "# Prompt the user to input the column name containing the text messages\n",
        "column_name = input(\"Enter the column name containing the text messages: \")\n",
        "\n",
        "# Load the dataset into a Pandas dataframe\n",
        "df = pd.read_csv(file_path)\n",
        "\n",
        "# Count NaNs in the specified column\n",
        "nan_count = df[column_name].isna().sum()\n",
        "print(f\"Number of NaNs in the '{column_name}' column: {nan_count}\")\n",
        "\n",
        "# If there are NaNs in the specified column, drop them and save the updated DataFrame to the original file\n",
        "if nan_count > 0:\n",
        "    df.dropna(subset=[column_name], inplace=True)\n",
        "    df.to_csv(file_path, index=False)\n",
        "    print(\"Dropped NaNs and saved the updated DataFrame to the original file.\")\n",
        "\n",
        "# Check if the specified column exists in the dataframe\n",
        "if column_name not in df.columns:\n",
        "    print(f\"The specified column '{column_name}' does not exist in the dataset.\")\n",
        "else:\n",
        "    # Identify duplicates using the `duplicated()` function with `keep=False` to mark all duplicates\n",
        "    df['duplicate'] = df[column_name].duplicated(keep=False)\n",
        "\n",
        "    # Print some statistics on the duplicate results\n",
        "    num_duplicates = df['duplicate'].sum()\n",
        "    num_unique = len(df) - num_duplicates\n",
        "    print(f\"Number of duplicates: {num_duplicates}\")\n",
        "    print(f\"Number of unique messages: {num_unique}\")\n",
        "\n",
        "    # Create a pie chart to visualize the duplicate results\n",
        "    labels = ['Unique', 'Duplicate']\n",
        "    sizes = [num_unique, num_duplicates]\n",
        "    colors = ['#66b3ff', '#ff9999']\n",
        "    plt.pie(sizes, labels=labels, colors=colors, autopct='%1.1f%%', startangle=90)\n",
        "    plt.axis('equal')  # Equal aspect ratio ensures that the pie chart is circular\n",
        "\n",
        "    # Extract the filename from the file path and include it in the chart title\n",
        "    filename = os.path.basename(file_path)\n",
        "    plt.title(f\"Duplicate Results\\nFile: {filename}\")\n",
        "\n",
        "    plt.show()\n",
        "\n",
        "    # Display the first 10 rows of the duplicates dataframe\n",
        "    print(\"\\nFirst 10 duplicate records:\")\n",
        "    df_duplicates = df[df['duplicate']]\n",
        "    print(df_duplicates.head(10))\n"
      ],
      "metadata": {
        "colab": {
          "base_uri": "https://localhost:8080/",
          "height": 650
        },
        "id": "7Ghn35OX5FHD",
        "outputId": "617df23c-8535-4b35-d8ec-286daef4f394"
      },
      "execution_count": 7,
      "outputs": [
        {
          "output_type": "stream",
          "name": "stdout",
          "text": [
            "Enter the file path for the dataset: /content/drive/MyDrive/Production Datasets/1_Praxis_Dataset/DeDuped_Dataset/Split Dataset/Training Data/Dataset_5971_deduped_training - Copy (2)_balanced_data_10149_gpt2_temp1.5_deduped_nans_dropped.csv\n",
            "Enter the column name containing the text messages: TEXT\n",
            "Number of NaNs in the 'TEXT' column: 0\n",
            "Number of duplicates: 0\n",
            "Number of unique messages: 10139\n"
          ]
        },
        {
          "output_type": "display_data",
          "data": {
            "text/plain": [
              "<Figure size 640x480 with 1 Axes>"
            ],
            "image/png": "[encoded data removed]"
          },
          "metadata": {}
        },
        {
          "output_type": "stream",
          "name": "stdout",
          "text": [
            "\n",
            "First 10 duplicate records:\n",
            "Empty DataFrame\n",
            "Columns: [LABEL, TEXT, URL, EMAIL, PHONE, duplicate]\n",
            "Index: []\n"
          ]
        }
      ]
    },
    {
      "cell_type": "markdown",
      "source": [
        "The following code DeDupes the dataset and saves in a file appended with _dedupe"
      ],
      "metadata": {
        "id": "Um73jmUyf2KZ"
      }
    },
    {
      "cell_type": "code",
      "source": [
        "# GOLD: The following code DeDupes the dataset and saves in a file appended with _dedupe\n",
        "import pandas as pd\n",
        "import matplotlib.pyplot as plt\n",
        "import os\n",
        "\n",
        "# Prompt the user to input the file path for the dataset\n",
        "file_path = input(\"Enter the file path for the dataset: \")\n",
        "\n",
        "# Prompt the user to input the column name containing the text messages\n",
        "column_name = input(\"Enter the column name containing the text messages: \")\n",
        "\n",
        "# Load the dataset into a Pandas dataframe\n",
        "df = pd.read_csv(file_path)\n",
        "\n",
        "# Check if the specified column exists in the dataframe\n",
        "if column_name not in df.columns:\n",
        "    print(f\"The specified column '{column_name}' does not exist in the dataset.\")\n",
        "else:\n",
        "    # Identify duplicates using the `duplicated()` function with `keep='first'` to keep only the first occurrence\n",
        "    df['duplicate'] = df[column_name].duplicated(keep='first')\n",
        "\n",
        "    # Print some statistics on the duplicate results\n",
        "    num_duplicates = df['duplicate'].sum()\n",
        "    num_unique = len(df) - num_duplicates\n",
        "    print(f\"Number of duplicates: {num_duplicates}\")\n",
        "    print(f\"Number of unique messages: {num_unique}\")\n",
        "\n",
        "    # Drop duplicate rows from the dataframe\n",
        "    df_deduplicated = df.drop(df[df['duplicate']].index)\n",
        "\n",
        "    # Save the deduplicated dataframe to a new file with the same name as the original file, appended with \"_deduped\"\n",
        "    file_dir, file_name = os.path.split(file_path)\n",
        "    file_base, file_ext = os.path.splitext(file_name)\n",
        "    deduplicated_file_name = f\"{file_base}_deduped{file_ext}\"\n",
        "    deduplicated_file_path = os.path.join(file_dir, deduplicated_file_name)\n",
        "\n",
        "    df_deduplicated.to_csv(deduplicated_file_path, index=False)\n",
        "    print(f\"Deduplicated dataset saved to: {deduplicated_file_path}\")\n"
      ],
      "metadata": {
        "colab": {
          "base_uri": "https://localhost:8080/"
        },
        "id": "QmkoqhjQe0ZC",
        "outputId": "764138e0-6df3-4be8-ad18-36d68c1879df"
      },
      "execution_count": 3,
      "outputs": [
        {
          "output_type": "stream",
          "name": "stdout",
          "text": [
            "Enter the file path for the dataset: /content/drive/MyDrive/Production Datasets/1_Praxis_Dataset/DeDuped_Dataset/Split Dataset/Training Data/Generative Transformer Balanced Datasets/GPT2 Medium/Additional Runs/Dataset_5971_deduped_training - Copy (2)_balanced_data_10149_gpt2-medium_temp1.0.csv\n",
            "Enter the column name containing the text messages: TEXT\n",
            "Number of duplicates: 18\n",
            "Number of unique messages: 10131\n",
            "Deduplicated dataset saved to: /content/drive/MyDrive/Production Datasets/1_Praxis_Dataset/DeDuped_Dataset/Split Dataset/Training Data/Generative Transformer Balanced Datasets/GPT2 Medium/Additional Runs/Dataset_5971_deduped_training - Copy (2)_balanced_data_10149_gpt2-medium_temp1.0_deduped.csv\n"
          ]
        }
      ]
    },
    {
      "cell_type": "code",
      "source": [
        "# GOLD: This code compares two datasets for duplicates, prints a pie chart, and shows a df of the duplicates.\n",
        "import pandas as pd\n",
        "import matplotlib.pyplot as plt\n",
        "import os\n",
        "\n",
        "# Prompt the user to input the file paths for the two datasets\n",
        "original_file = input(\"Enter the file path for the original dataset: \")\n",
        "synthetic_file = input(\"Enter the file path for the synthetic dataset: \")\n",
        "\n",
        "# Prompt the user to input the column name containing the text messages\n",
        "column_name = input(\"Enter the column name containing the text messages: \")\n",
        "\n",
        "# Load the two datasets into Pandas dataframes\n",
        "df_original = pd.read_csv(original_file)\n",
        "df_synthetic = pd.read_csv(synthetic_file)\n",
        "\n",
        "# Check if the specified column exists in both dataframes\n",
        "if column_name not in df_original.columns or column_name not in df_synthetic.columns:\n",
        "    print(f\"The specified column '{column_name}' does not exist in one or both datasets.\")\n",
        "else:\n",
        "    # Concatenate the two dataframes into a single dataframe\n",
        "    df_combined = pd.concat([df_original[[column_name]], df_synthetic[[column_name]]], ignore_index=True)\n",
        "\n",
        "    # Identify duplicates using the `duplicated()` function with `keep=False` to mark all duplicates\n",
        "    df_combined['duplicate'] = df_combined[column_name].duplicated(keep=False)\n",
        "\n",
        "    # Print some statistics on the comparison results\n",
        "    num_duplicates = df_combined['duplicate'].sum()\n",
        "    num_unique = len(df_combined) - num_duplicates\n",
        "    print(f\"Number of duplicates: {num_duplicates}\")\n",
        "    print(f\"Number of unique messages: {num_unique}\")\n",
        "\n",
        "    # Create a dataframe containing the duplicate records\n",
        "    df_duplicates = df_combined[df_combined['duplicate']]\n",
        "\n",
        "    # Display the first 10 rows of the duplicates dataframe\n",
        "    print(\"\\nFirst 10 duplicate records:\")\n",
        "    print(df_duplicates.head(10))\n",
        "\n",
        "    # Create a pie chart to visualize the comparison results\n",
        "    labels = ['Unique', 'Duplicate']\n",
        "    sizes = [num_unique, num_duplicates]\n",
        "    colors = ['#66b3ff', '#ff9999']\n",
        "    plt.pie(sizes, labels=labels, colors=colors, autopct='%1.1f%%', startangle=90)\n",
        "    plt.axis('equal')  # Equal aspect ratio ensures that the pie chart is circular\n",
        "\n",
        "    # Extract the filenames from the file paths and include them in the chart title\n",
        "    original_filename = os.path.basename(original_file)\n",
        "    synthetic_filename = os.path.basename(synthetic_file)\n",
        "    plt.title(f\"Comparison Results\\nOriginal: {original_filename}\\nSynthetic: {synthetic_filename}\")\n",
        "\n",
        "    plt.show()\n"
      ],
      "metadata": {
        "colab": {
          "base_uri": "https://localhost:8080/",
          "height": 809
        },
        "id": "5FM-hB1bs2zp",
        "outputId": "2a8aaefb-2daa-4851-eddf-6c7a98890bb3"
      },
      "execution_count": null,
      "outputs": [
        {
          "output_type": "stream",
          "name": "stdout",
          "text": [
            "Enter the file path for the original dataset: /content/drive/MyDrive/Production Datasets/1_Praxis_Dataset/DeDuped_Dataset/Split Dataset/Training Data/Dataset_5971_deduped_training_synthetic_data_5985_gpt2_temp0.2.csv\n",
            "Enter the file path for the synthetic dataset: /content/drive/MyDrive/Production Datasets/1_Praxis_Dataset/DeDuped_Dataset/Split Dataset/Training Data/Dataset_5971_deduped_training_synthetic_data_5985_gpt2_temp0.5.csv\n",
            "Enter the column name containing the text messages: TEXT\n",
            "Number of duplicates: 19\n",
            "Number of unique messages: 11949\n",
            "\n",
            "First 10 duplicate records:\n",
            "                                                   TEXT  duplicate\n",
            "117                                                 NaN       True\n",
            "1825                                                NaN       True\n",
            "2277                                                NaN       True\n",
            "2854                                                NaN       True\n",
            "3643  Arsenal 4 (Henry, 7 v Liverpool 2 Henry scores...       True\n",
            "4009  Arsenal 4 (Henry, 7 v Liverpool 2 Henry scores...       True\n",
            "4842           Download Now at http://live.airtelworld.       True\n",
            "5212           Download Now at http://live.airtelworld.       True\n",
            "6369  Payment will be taken automatically out of you...       True\n",
            "7132  Payment will be taken automatically out of you...       True\n"
          ]
        },
        {
          "output_type": "display_data",
          "data": {
            "text/plain": [
              "<Figure size 640x480 with 1 Axes>"
            ],
            "image/png": "[encoded data removed]"
          },
          "metadata": {}
        }
      ]
    },
    {
      "cell_type": "code",
      "source": [
        "# This code combines two datasets and drops duplicate texts\n",
        "import pandas as pd\n",
        "import matplotlib.pyplot as plt\n",
        "import os\n",
        "\n",
        "# Prompt the user to input the file paths for the two datasets\n",
        "file_1 = input(\"Enter the file path for file 1: \")\n",
        "file_2 = input(\"Enter the file path for file 2: \")\n",
        "\n",
        "# Prompt the user to input the column name containing the text messages\n",
        "column_name = input(\"Enter the column name containing the text messages: \")\n",
        "\n",
        "# Load the two datasets into Pandas dataframes\n",
        "df_file_1 = pd.read_csv(file_1)\n",
        "df_file_2 = pd.read_csv(file_2)\n",
        "\n",
        "# Check if the specified column exists in both dataframes\n",
        "if column_name not in df_file_1.columns or column_name not in df_file_2.columns:\n",
        "    print(f\"The specified column '{column_name}' does not exist in one or both datasets.\")\n",
        "else:\n",
        "    # Concatenate the two dataframes into a single dataframe and remove duplicates\n",
        "    df_combined = pd.concat([df_file_1, df_file_2], ignore_index=True).drop_duplicates(subset=column_name)\n",
        "\n",
        "    # Prompt the user for the destination directory to save the combined dataframe\n",
        "    save_directory = input(\"Enter the destination directory to save the new dataset: \")\n",
        "\n",
        "    # Create the directory if it does not exist\n",
        "    os.makedirs(save_directory, exist_ok=True)\n",
        "\n",
        "    combined_filename = f\"{os.path.splitext(os.path.basename(file_1))[0]}_{os.path.splitext(os.path.basename(file_2))[0]}_Mixed.csv\"\n",
        "    df_combined.to_csv(os.path.join(save_directory, combined_filename), index=False)\n",
        "    print(f\"Combined dataset saved to: {os.path.join(save_directory, combined_filename)}\")\n"
      ],
      "metadata": {
        "id": "_99X-3xMtTUR",
        "outputId": "bb65669f-d617-4316-9228-aed5a18e02b3",
        "colab": {
          "base_uri": "https://localhost:8080/"
        }
      },
      "execution_count": null,
      "outputs": [
        {
          "output_type": "stream",
          "name": "stdout",
          "text": [
            "Enter the file path for file 1: /content/drive/MyDrive/Production Datasets/1_Praxis_Dataset/DeDuped_Dataset/Split Dataset/Training Data/Data Augmentation Data Balancer/Dataset_5971_deduped_training_balanced_data_augmented_10149.csv\n",
            "Enter the file path for file 2: /content/drive/MyDrive/Production Datasets/1_Praxis_Dataset/DeDuped_Dataset/Split Dataset/Training Data/Generative Transformer Balanced Datasets/GPT2 Large/Dataset_5971_deduped_training_balanced_data_10149_gpt2-large_temp0.5.csv\n",
            "Enter the column name containing the text messages: TEXT\n",
            "Enter the destination directory to save the new dataset: /content/drive/MyDrive/Production Datasets/1_Praxis_Dataset/DeDuped_Dataset/Split Dataset/Training Data/Smished Datasets\n",
            "Combined dataset saved to: /content/drive/MyDrive/Production Datasets/1_Praxis_Dataset/DeDuped_Dataset/Split Dataset/Training Data/Smished Datasets/Dataset_5971_deduped_training_balanced_data_augmented_10149_Dataset_5971_deduped_training_balanced_data_10149_gpt2-large_temp0.5_Mixed.csv\n"
          ]
        }
      ]
    },
    {
      "cell_type": "code",
      "source": [
        "# GOLD: The following code DeDupes the dataset, drops all rows with NaN in the text column, and saves in a file appended with _deduped_nans_dropped\n",
        "import pandas as pd\n",
        "import matplotlib.pyplot as plt\n",
        "import os\n",
        "\n",
        "# Prompt the user to input the file path for the dataset\n",
        "file_path = input(\"Enter the file path for the dataset: \")\n",
        "\n",
        "# Prompt the user to input the column name containing the text messages\n",
        "column_name = input(\"Enter the column name containing the text messages: \")\n",
        "\n",
        "# Load the dataset into a Pandas dataframe\n",
        "df = pd.read_csv(file_path)\n",
        "\n",
        "# Check if the specified column exists in the dataframe\n",
        "if column_name not in df.columns:\n",
        "    print(f\"The specified column '{column_name}' does not exist in the dataset.\")\n",
        "else:\n",
        "    # Drop rows where the text column is NaN\n",
        "    df = df.dropna(subset=[column_name])\n",
        "\n",
        "    # Identify duplicates using the `duplicated()` function with `keep='first'` to keep only the first occurrence\n",
        "    df['duplicate'] = df[column_name].duplicated(keep='first')\n",
        "\n",
        "    # Print some statistics on the duplicate results\n",
        "    num_duplicates = df['duplicate'].sum()\n",
        "    num_unique = len(df) - num_duplicates\n",
        "    print(f\"Number of duplicates: {num_duplicates}\")\n",
        "    print(f\"Number of unique messages: {num_unique}\")\n",
        "\n",
        "    # Drop duplicate rows from the dataframe\n",
        "    df_deduplicated = df.drop(df[df['duplicate']].index)\n",
        "\n",
        "    # Save the deduplicated and NaN-dropped dataframe to a new file\n",
        "    # The filename is appended with \"_deduped_nans_dropped\"\n",
        "    file_dir, file_name = os.path.split(file_path)\n",
        "    file_base, file_ext = os.path.splitext(file_name)\n",
        "    deduplicated_file_name = f\"{file_base}_deduped_nans_dropped{file_ext}\"\n",
        "    deduplicated_file_path = os.path.join(file_dir, deduplicated_file_name)\n",
        "\n",
        "    df_deduplicated.to_csv(deduplicated_file_path, index=False)\n",
        "    print(f\"Deduplicated and NaN-dropped dataset saved to: {deduplicated_file_path}\")\n",
        "\n"
      ],
      "metadata": {
        "colab": {
          "base_uri": "https://localhost:8080/"
        },
        "id": "_dnxGQZr7j0x",
        "outputId": "7d673643-e6cf-4329-e7db-1f2799559ad1"
      },
      "execution_count": 5,
      "outputs": [
        {
          "output_type": "stream",
          "name": "stdout",
          "text": [
            "Enter the file path for the dataset: /content/drive/MyDrive/Production Datasets/1_Praxis_Dataset/DeDuped_Dataset/Split Dataset/Training Data/Dataset_5971_deduped_training - Copy (2)_balanced_data_10149_gpt2_temp1.5.csv\n",
            "Enter the column name containing the text messages: TEXT\n",
            "Number of duplicates: 5\n",
            "Number of unique messages: 10139\n",
            "Deduplicated and NaN-dropped dataset saved to: /content/drive/MyDrive/Production Datasets/1_Praxis_Dataset/DeDuped_Dataset/Split Dataset/Training Data/Dataset_5971_deduped_training - Copy (2)_balanced_data_10149_gpt2_temp1.5_deduped_nans_dropped.csv\n"
          ]
        }
      ]
    },
    {
      "cell_type": "code",
      "source": [
        "import pandas as pd\n",
        "import matplotlib.pyplot as plt\n",
        "import os\n",
        "import re\n",
        "from sklearn.feature_extraction.text import TfidfVectorizer\n",
        "\n",
        "# GOLD: The Following Code Checks for Duplicates in a Single file, shows a df of the duplicates,\n",
        "# AND the number of NANs, Drops NANS, and prepares the text column for training with TF-IDF embeddings.\n",
        "# It then saves the cleaned and prepared dataset.\n",
        "\n",
        "# Prompt the user to input the file path for the dataset\n",
        "file_path = input(\"Enter the file path for the dataset: \")\n",
        "\n",
        "# Prompt the user to input the column name containing the text messages\n",
        "column_name = input(\"Enter the column name containing the text messages: \")\n",
        "\n",
        "# Load the dataset into a Pandas dataframe\n",
        "df = pd.read_csv(file_path)\n",
        "\n",
        "# Count NaNs in the specified column\n",
        "nan_count = df[column_name].isna().sum()\n",
        "print(f\"Number of NaNs in the '{column_name}' column: {nan_count}\")\n",
        "\n",
        "# If there are NaNs in the specified column, drop them\n",
        "if nan_count > 0:\n",
        "    df.dropna(subset=[column_name], inplace=True)\n",
        "    print(\"Dropped NaNs.\")\n",
        "\n",
        "# Check if the specified column exists in the dataframe\n",
        "if column_name not in df.columns:\n",
        "    print(f\"The specified column '{column_name}' does not exist in the dataset.\")\n",
        "else:\n",
        "    # Text cleaning: convert to lower case and remove punctuations\n",
        "    df[column_name] = df[column_name].apply(lambda x: x.lower())\n",
        "    df[column_name] = df[column_name].apply(lambda x: re.sub(r'[^\\w\\s]', '', x))\n",
        "\n",
        "    # Identify duplicates using the `duplicated()` function with `keep=False` to mark all duplicates\n",
        "    df['duplicate'] = df[column_name].duplicated(keep=False)\n",
        "\n",
        "    # Print some statistics on the duplicate results\n",
        "    num_duplicates = df['duplicate'].sum()\n",
        "    num_unique = len(df) - num_duplicates\n",
        "    print(f\"Number of duplicates: {num_duplicates}\")\n",
        "    print(f\"Number of unique messages: {num_unique}\")\n",
        "\n",
        "    # TF-IDF Vectorization (optional here, but usually this step is done after train/test split)\n",
        "    vectorizer = TfidfVectorizer()\n",
        "    X_tfidf = vectorizer.fit_transform(df[column_name])\n",
        "\n",
        "    # Save the deduplicated and cleaned dataframe to a new file with the same name as the original file,\n",
        "    # appended with \"_cleaned_prepared\"\n",
        "    file_dir, file_name = os.path.split(file_path)\n",
        "    file_base, file_ext = os.path.splitext(file_name)\n",
        "    cleaned_file_name = f\"{file_base}_cleaned_prepared{file_ext}\"\n",
        "    cleaned_file_path = os.path.join(file_dir, cleaned_file_name)\n",
        "\n",
        "    df.to_csv(cleaned_file_path, index=False)\n",
        "    print(f\"Cleaned and prepared dataset saved to: {cleaned_file_path}\")\n"
      ],
      "metadata": {
        "colab": {
          "base_uri": "https://localhost:8080/"
        },
        "id": "oDSIrrmv_zpe",
        "outputId": "921bd6e3-62ce-4ac6-c019-ff18c5d596d7"
      },
      "execution_count": 11,
      "outputs": [
        {
          "output_type": "stream",
          "name": "stdout",
          "text": [
            "Enter the file path for the dataset: /content/drive/MyDrive/Production Datasets/1_Praxis_Dataset/DeDuped_Dataset/Split Dataset/Training Data/Dataset_5971_deduped_training - Copy (2)_balanced_data_10149_gpt2_temp1.5_deduped_nans_dropped.csv\n",
            "Enter the column name containing the text messages: TEXT\n",
            "Number of NaNs in the 'TEXT' column: 0\n",
            "Number of duplicates: 4\n",
            "Number of unique messages: 10135\n",
            "Cleaned and prepared dataset saved to: /content/drive/MyDrive/Production Datasets/1_Praxis_Dataset/DeDuped_Dataset/Split Dataset/Training Data/Dataset_5971_deduped_training - Copy (2)_balanced_data_10149_gpt2_temp1.5_deduped_nans_dropped_cleaned_prepared.csv\n"
          ]
        }
      ]
    }
  ]
}